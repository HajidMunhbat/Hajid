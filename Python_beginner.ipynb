{
  "nbformat": 4,
  "nbformat_minor": 0,
  "metadata": {
    "colab": {
      "name": "같이공부하기.ipynb",
      "provenance": [],
      "authorship_tag": "ABX9TyN3/FGZ24fTPa7DK6W9yY2V",
      "include_colab_link": true
    },
    "kernelspec": {
      "name": "python3",
      "display_name": "Python 3"
    }
  },
  "cells": [
    {
      "cell_type": "markdown",
      "metadata": {
        "id": "view-in-github",
        "colab_type": "text"
      },
      "source": [
        "<a href=\"https://colab.research.google.com/github/HajidMunhbat/Hajid/blob/master/Python_beginner.ipynb\" target=\"_parent\"><img src=\"https://colab.research.google.com/assets/colab-badge.svg\" alt=\"Open In Colab\"/></a>"
      ]
    },
    {
      "cell_type": "code",
      "metadata": {
        "id": "1YF5ODXlsh55",
        "colab": {
          "base_uri": "https://localhost:8080/"
        },
        "outputId": "25bb7b2f-aac2-4774-ee38-95a60d2cfc8e"
      },
      "source": [
        "a = 10\n",
        "print(a)"
      ],
      "execution_count": null,
      "outputs": [
        {
          "output_type": "stream",
          "name": "stdout",
          "text": [
            "10\n"
          ]
        }
      ]
    },
    {
      "cell_type": "code",
      "metadata": {
        "id": "QxORsmUEsnCL",
        "colab": {
          "base_uri": "https://localhost:8080/"
        },
        "outputId": "0d650bbc-cd22-49bb-9daa-34643420cc02"
      },
      "source": [
        "b = [1,2,3,4,5,6,7,8,9]\n",
        "c=0 \n",
        "for i in range(0, len(b)):\n",
        "  c=c+b[i]\n",
        "print(c)\n",
        "\n"
      ],
      "execution_count": null,
      "outputs": [
        {
          "output_type": "stream",
          "name": "stdout",
          "text": [
            "45\n"
          ]
        }
      ]
    },
    {
      "cell_type": "code",
      "source": [
        "def multiplication(number1,number2):\n",
        "  product = number1 * number2\n",
        "  if product <= 1000:\n",
        "    return product\n",
        "  else:\n",
        "    return number1 + number2\n",
        "multiplication(20,30)\n"
      ],
      "metadata": {
        "colab": {
          "base_uri": "https://localhost:8080/"
        },
        "id": "8sjgmDfoVJLc",
        "outputId": "98e7f601-2938-44a9-b0aa-699b092e396e"
      },
      "execution_count": null,
      "outputs": [
        {
          "output_type": "execute_result",
          "data": {
            "text/plain": [
              "600"
            ]
          },
          "metadata": {},
          "execution_count": 10
        }
      ]
    },
    {
      "cell_type": "code",
      "metadata": {
        "id": "bW0yh274sncu",
        "colab": {
          "base_uri": "https://localhost:8080/"
        },
        "outputId": "63dfe76e-103d-47e2-fb0b-0d5ad8334dc3"
      },
      "source": [
        "previous_num = 0\n",
        "for i in range(10):\n",
        "  sum = i + previous_num\n",
        "  previous_num = i\n",
        "  print(\"Current number\", i, \"Previous number\",previous_num, \"sum:\", sum)\n",
        "  previous_num = i\n"
      ],
      "execution_count": null,
      "outputs": [
        {
          "output_type": "stream",
          "name": "stdout",
          "text": [
            "Current number 0 Previous number 0 sum: 0\n",
            "Current number 1 Previous number 1 sum: 1\n",
            "Current number 2 Previous number 2 sum: 3\n",
            "Current number 3 Previous number 3 sum: 5\n",
            "Current number 4 Previous number 4 sum: 7\n",
            "Current number 5 Previous number 5 sum: 9\n",
            "Current number 6 Previous number 6 sum: 11\n",
            "Current number 7 Previous number 7 sum: 13\n",
            "Current number 8 Previous number 8 sum: 15\n",
            "Current number 9 Previous number 9 sum: 17\n"
          ]
        }
      ]
    },
    {
      "cell_type": "code",
      "metadata": {
        "id": "tVEu9yLasnnu",
        "colab": {
          "base_uri": "https://localhost:8080/"
        },
        "outputId": "a81ff5cf-142b-4ba9-9688-7a417e6ec860"
      },
      "source": [
        "name = input(\"Enter your name: \")\n",
        "num = len(name)\n",
        "for i in range (num-1, 0):\n",
        "  print(\"index[\",i,\"]\", name[i])\n"
      ],
      "execution_count": null,
      "outputs": [
        {
          "name": "stdout",
          "output_type": "stream",
          "text": [
            "Enter your name: hajid\n"
          ]
        }
      ]
    },
    {
      "cell_type": "code",
      "metadata": {
        "id": "YrDZefejsnwj",
        "colab": {
          "base_uri": "https://localhost:8080/"
        },
        "outputId": "52e2782f-4512-4d4c-871e-b90f8df8ed3c"
      },
      "source": [
        "list1 = [100, 200, 300, 400, 500]\n",
        "list1.reverse()\n",
        "print(list1)\n"
      ],
      "execution_count": null,
      "outputs": [
        {
          "output_type": "stream",
          "name": "stdout",
          "text": [
            "[500, 400, 300, 200, 100]\n"
          ]
        }
      ]
    },
    {
      "cell_type": "code",
      "metadata": {
        "id": "niK8fK5bsn41",
        "colab": {
          "base_uri": "https://localhost:8080/"
        },
        "outputId": "cbcc4daf-ab1b-4fa4-a063-223359f96a5f"
      },
      "source": [
        "a_list = ['a', 'b', 'c']\n",
        "order = [1, 0, 2]\n",
        "\n",
        "a_list = [a_list[i] for i in order]\n",
        "\n",
        "print(a_list)\n"
      ],
      "execution_count": null,
      "outputs": [
        {
          "output_type": "stream",
          "name": "stdout",
          "text": [
            "['b', 'a', 'c']\n"
          ]
        }
      ]
    },
    {
      "cell_type": "code",
      "metadata": {
        "id": "YHme29dxsn__",
        "colab": {
          "base_uri": "https://localhost:8080/"
        },
        "outputId": "6976fd48-3c86-48c7-cd63-b28917f5f6da"
      },
      "source": [
        "h_letters = []\n",
        "\n",
        "for letter in 'human':\n",
        "  h_letters.append(letter)\n",
        "  print(h_letters)\n",
        "\n",
        "#print(h_letters)"
      ],
      "execution_count": null,
      "outputs": [
        {
          "output_type": "stream",
          "name": "stdout",
          "text": [
            "['h']\n",
            "['h', 'u']\n",
            "['h', 'u', 'm']\n",
            "['h', 'u', 'm', 'a']\n",
            "['h', 'u', 'm', 'a', 'n']\n"
          ]
        }
      ]
    },
    {
      "cell_type": "code",
      "metadata": {
        "id": "y8WvWJKYsoG6",
        "colab": {
          "base_uri": "https://localhost:8080/"
        },
        "outputId": "da8653a0-b275-4990-8b21-c3f52113959f"
      },
      "source": [
        "h_letter = [letter for letter in 'human']\n",
        "print(h_letter)"
      ],
      "execution_count": null,
      "outputs": [
        {
          "output_type": "stream",
          "name": "stdout",
          "text": [
            "['h', 'u', 'm', 'a', 'n']\n"
          ]
        }
      ]
    },
    {
      "cell_type": "code",
      "metadata": {
        "id": "FBxLRa-EsoOM",
        "colab": {
          "base_uri": "https://localhost:8080/"
        },
        "outputId": "00e1b14a-67d4-4ff0-95d1-630a70887548"
      },
      "source": [
        "letters = list(map(lambda x: x, 'human'))\n",
        "print(letters)"
      ],
      "execution_count": null,
      "outputs": [
        {
          "output_type": "stream",
          "name": "stdout",
          "text": [
            "['h', 'u', 'm', 'a', 'n']\n"
          ]
        }
      ]
    },
    {
      "cell_type": "code",
      "source": [
        "number_list = [x for x in range(20) if x % 2 == 0]\n",
        "print(number_list)"
      ],
      "metadata": {
        "colab": {
          "base_uri": "https://localhost:8080/"
        },
        "id": "ZL7jHcFzFrVB",
        "outputId": "d95d55a2-daba-4695-a6b3-207692643c06"
      },
      "execution_count": null,
      "outputs": [
        {
          "output_type": "stream",
          "name": "stdout",
          "text": [
            "[0, 2, 4, 6, 8, 10, 12, 14, 16, 18]\n"
          ]
        }
      ]
    },
    {
      "cell_type": "code",
      "source": [
        "num_list = [y for y in range(100) if y % 2 == 0 if y % 5 == 0]\n",
        "print(num_list)"
      ],
      "metadata": {
        "colab": {
          "base_uri": "https://localhost:8080/"
        },
        "id": "tzQeQfkWFrka",
        "outputId": "f0771e65-f1ac-4177-d40f-6e02bc58b28f"
      },
      "execution_count": null,
      "outputs": [
        {
          "output_type": "stream",
          "name": "stdout",
          "text": [
            "[0, 10, 20, 30, 40, 50, 60, 70, 80, 90]\n"
          ]
        }
      ]
    },
    {
      "cell_type": "code",
      "source": [
        "obj = ['Even' if i%2==0 else 'Odd' for i in range(10)]\n",
        "print(obj)"
      ],
      "metadata": {
        "colab": {
          "base_uri": "https://localhost:8080/"
        },
        "id": "63EWFwTLFrwn",
        "outputId": "1a79d50d-9856-453f-82e5-a862ec762779"
      },
      "execution_count": null,
      "outputs": [
        {
          "output_type": "stream",
          "name": "stdout",
          "text": [
            "['Even', 'Odd', 'Even', 'Odd', 'Even', 'Odd', 'Even', 'Odd', 'Even', 'Odd']\n"
          ]
        }
      ]
    },
    {
      "cell_type": "code",
      "source": [
        "a = 'Even'\n",
        "b = 'Odd'\n",
        "\n",
        "for i in range(10):\n",
        "  if i%2==0:\n",
        "    print(a)\n",
        "  else:\n",
        "    print(b)"
      ],
      "metadata": {
        "colab": {
          "base_uri": "https://localhost:8080/"
        },
        "id": "ifCaYw2SFsS2",
        "outputId": "6d690f1c-f4ef-4787-c665-a043052dad50"
      },
      "execution_count": null,
      "outputs": [
        {
          "output_type": "stream",
          "name": "stdout",
          "text": [
            "Even\n",
            "Odd\n",
            "Even\n",
            "Odd\n",
            "Even\n",
            "Odd\n",
            "Even\n",
            "Odd\n",
            "Even\n",
            "Odd\n"
          ]
        }
      ]
    },
    {
      "cell_type": "code",
      "source": [
        "transposed = []\n",
        "matrix = [[1, 2, 3, 4], [4, 5 ,6 ,8]]\n",
        "\n",
        "for i in range(len(matrix[0])):\n",
        "  transposed_row = []\n",
        "  #print(i)\n",
        "\n",
        "  for row in matrix:\n",
        "    #print(row)\n",
        "    transposed_row.append(row[i])\n",
        "    print(transposed_row)\n",
        "  transposed.append(transposed_row)\n",
        "\n",
        "#print(transposed)"
      ],
      "metadata": {
        "colab": {
          "base_uri": "https://localhost:8080/"
        },
        "id": "dkUsmw5DFsdH",
        "outputId": "2e6a01aa-a82c-4cab-96ee-d26f9d8d904c"
      },
      "execution_count": null,
      "outputs": [
        {
          "output_type": "stream",
          "name": "stdout",
          "text": [
            "[1]\n",
            "[1, 4]\n",
            "[2]\n",
            "[2, 5]\n",
            "[3]\n",
            "[3, 6]\n",
            "[4]\n",
            "[4, 8]\n"
          ]
        }
      ]
    },
    {
      "cell_type": "code",
      "source": [
        "matrix = [[1,2], [3,4], [5,6], [7,8]]\n",
        "transpose = [[row[i]for row in matrix] for i in range(2)]\n",
        "print(transpose)"
      ],
      "metadata": {
        "colab": {
          "base_uri": "https://localhost:8080/"
        },
        "id": "3yE--flgFsl_",
        "outputId": "dc8bbdca-05da-4694-e9e2-075620d01fad"
      },
      "execution_count": null,
      "outputs": [
        {
          "output_type": "stream",
          "name": "stdout",
          "text": [
            "[[1, 3, 5, 7], [2, 4, 6, 8]]\n"
          ]
        }
      ]
    },
    {
      "cell_type": "code",
      "source": [
        "a_list = [100, 200, 300, 400]\n",
        "order = [3, 2, 1, 0]\n",
        "\n",
        "a_list = [a_list[i] for i in order]\n",
        "print(a_list)"
      ],
      "metadata": {
        "colab": {
          "base_uri": "https://localhost:8080/"
        },
        "id": "bLUFB7LmFsu9",
        "outputId": "3ca6cc37-5d49-44ea-f9c8-5822708f2154"
      },
      "execution_count": null,
      "outputs": [
        {
          "output_type": "stream",
          "name": "stdout",
          "text": [
            "[400, 300, 200, 100]\n"
          ]
        }
      ]
    },
    {
      "cell_type": "code",
      "source": [
        "list1 = [100, 200, 300, 400, 500]\n",
        "list1 = list1[::-1]\n",
        "print(list1)"
      ],
      "metadata": {
        "colab": {
          "base_uri": "https://localhost:8080/"
        },
        "id": "o94c4jrM-BZp",
        "outputId": "12a20eae-f9e9-4a7f-a957-53630874ac2d"
      },
      "execution_count": null,
      "outputs": [
        {
          "output_type": "stream",
          "name": "stdout",
          "text": [
            "[500, 400, 300, 200, 100]\n"
          ]
        }
      ]
    },
    {
      "cell_type": "code",
      "source": [
        "word = input(\"name: \")\n",
        "print(word)\n",
        "\n",
        "len_word = len(word)\n",
        "x = list(word)\n",
        "name_list=[word[i] for i in range(0, len_word, 2)]\n",
        "print(name_list)\n"
      ],
      "metadata": {
        "colab": {
          "base_uri": "https://localhost:8080/"
        },
        "id": "EuNLNRz--BoR",
        "outputId": "3ca1499b-e2db-4969-c8d5-965c7ade8524"
      },
      "execution_count": null,
      "outputs": [
        {
          "output_type": "stream",
          "name": "stdout",
          "text": [
            "name: hajid\n",
            "hajid\n",
            "['h', 'j', 'd']\n"
          ]
        }
      ]
    },
    {
      "cell_type": "code",
      "source": [
        "word = input('enter name ')\n",
        "\n",
        "x = list(word)\n",
        "for i in x[0::2]:\n",
        "  print(i)"
      ],
      "metadata": {
        "colab": {
          "base_uri": "https://localhost:8080/"
        },
        "id": "bqEiBswt-BxX",
        "outputId": "4fde998d-3121-4701-a423-2de477fde6cd"
      },
      "execution_count": null,
      "outputs": [
        {
          "output_type": "stream",
          "name": "stdout",
          "text": [
            "enter name hajid\n",
            "h\n",
            "j\n",
            "d\n"
          ]
        }
      ]
    },
    {
      "cell_type": "code",
      "source": [
        "name = 'hajid'\n",
        "\n",
        "#string slicing\n",
        "print(name[4:])\n",
        "print(name[2:])\n",
        "print(name[:1])\n",
        "print(name[::2])\n",
        "print(name[::3])"
      ],
      "metadata": {
        "colab": {
          "base_uri": "https://localhost:8080/"
        },
        "id": "XU6xdmIv-B7x",
        "outputId": "5bbf5de2-ebf5-43d3-97b6-93b1829d2aaf"
      },
      "execution_count": null,
      "outputs": [
        {
          "output_type": "stream",
          "name": "stdout",
          "text": [
            "d\n",
            "jid\n",
            "h\n",
            "hjd\n",
            "hi\n"
          ]
        }
      ]
    },
    {
      "cell_type": "code",
      "source": [
        "#string slicing\n",
        "def remove_chars(word, n):\n",
        "  print('Original string:', word)\n",
        "  x=word[n:]\n",
        "  return x\n",
        "\n",
        "print('Removing characters from a string')\n",
        "print(remove_chars('pynative', 4))\n",
        "print(remove_chars('pynative', 2))"
      ],
      "metadata": {
        "colab": {
          "base_uri": "https://localhost:8080/"
        },
        "id": "x6xfZJ3QDrOo",
        "outputId": "deeb692d-d95e-422b-b6bd-921614c42c8c"
      },
      "execution_count": null,
      "outputs": [
        {
          "output_type": "stream",
          "name": "stdout",
          "text": [
            "Removing characters from a string\n",
            "Original string: pynative\n",
            "tive\n",
            "Original string: pynative\n",
            "native\n"
          ]
        }
      ]
    },
    {
      "cell_type": "code",
      "source": [
        "#check if the last and first number of list is same\n",
        "list1 = [10, 20, 30, 10]\n",
        "list_len = len(list1)\n",
        "\n",
        "if list1[0] == list1[3]:\n",
        "  print('result is True')\n",
        "else:\n",
        "  print('result is False')"
      ],
      "metadata": {
        "colab": {
          "base_uri": "https://localhost:8080/"
        },
        "id": "Q7mRSma2EOIq",
        "outputId": "3e7f3fa5-f13b-4d44-9eab-dd2cc1abf974"
      },
      "execution_count": null,
      "outputs": [
        {
          "output_type": "stream",
          "name": "stdout",
          "text": [
            "result is True\n"
          ]
        }
      ]
    },
    {
      "cell_type": "code",
      "source": [
        "def first_last_same(numberList):\n",
        "  print('Given list: ', numberList)\n",
        "\n",
        "  first_num = numberList[0]\n",
        "  last_num = numberList[-1]\n",
        "\n",
        "  if first_num == last_num:\n",
        "    return True\n",
        "  else:\n",
        "    return False\n",
        "\n",
        "numbers_x = [10, 20, 30, 40, 10]\n",
        "print('result is', first_last_same(numbers_x))\n",
        "\n",
        "numbers_y = [75, 65, 35, 75, 30]\n",
        "print('result is', first_last_same(numbers_y))"
      ],
      "metadata": {
        "colab": {
          "base_uri": "https://localhost:8080/"
        },
        "id": "0G850_JFEOOS",
        "outputId": "a13ed1a3-9625-4ca0-cf3b-0d1c47c4f2dc"
      },
      "execution_count": null,
      "outputs": [
        {
          "output_type": "stream",
          "name": "stdout",
          "text": [
            "Given list:  [10, 20, 30, 40, 10]\n",
            "result is True\n",
            "Given list:  [75, 65, 35, 75, 30]\n",
            "result is False\n"
          ]
        }
      ]
    },
    {
      "cell_type": "code",
      "source": [
        "given_list = [10, 20, 33, 46, 55]\n",
        "\n",
        "for i in given_list:\n",
        "  if i % 5 == 0:\n",
        "    print(i)\n",
        "  \n"
      ],
      "metadata": {
        "colab": {
          "base_uri": "https://localhost:8080/"
        },
        "id": "9GNNnaOSEOSP",
        "outputId": "ff0bb223-9a2a-42d8-df30-d8333ffc00e6"
      },
      "execution_count": null,
      "outputs": [
        {
          "output_type": "stream",
          "name": "stdout",
          "text": [
            "10\n",
            "20\n",
            "55\n"
          ]
        }
      ]
    },
    {
      "cell_type": "code",
      "source": [
        "list1 = ['M', 'na', 'i', 'Ke']\n",
        "list2 = ['y', 'me', 's', 'lly']\n",
        "\n",
        "x = zip(list1, list2)\n",
        "too = list1[0] + list2[0]\n",
        "print(too)\n",
        "\n",
        "#use the tuple() function to display a readable version of the result\n",
        "#print(tuple(x))\n",
        "\n",
        "new_list = [i + j for i, j in zip(list1, list2)]\n",
        "print(new_list)\n",
        "\n"
      ],
      "metadata": {
        "colab": {
          "base_uri": "https://localhost:8080/"
        },
        "id": "xvCSYk5pEOV4",
        "outputId": "5dec04e5-fd4b-4861-d215-c89bf13942dc"
      },
      "execution_count": null,
      "outputs": [
        {
          "output_type": "stream",
          "name": "stdout",
          "text": [
            "My\n",
            "['My', 'name', 'is', 'Kelly']\n"
          ]
        }
      ]
    },
    {
      "cell_type": "code",
      "source": [
        "numbers = [1, 2, 3, 4, 5, 6, 7]\n",
        "\n",
        "for i in numbers:\n",
        "  square = i * i\n",
        "  print(square)"
      ],
      "metadata": {
        "colab": {
          "base_uri": "https://localhost:8080/"
        },
        "id": "UyjdEoCZEOa-",
        "outputId": "5d1de35c-3bfd-4bb4-f9f1-36f0a4bec68f"
      },
      "execution_count": null,
      "outputs": [
        {
          "output_type": "stream",
          "name": "stdout",
          "text": [
            "1\n",
            "4\n",
            "9\n",
            "16\n",
            "25\n",
            "36\n",
            "49\n"
          ]
        }
      ]
    },
    {
      "cell_type": "code",
      "source": [
        "numbers = [1, 2, 3, 4, 5, 6, 7]\n",
        "\n",
        "#result list\n",
        "res =[]\n",
        "for i in numbers:\n",
        "  res.append(i * i)\n",
        "print(res)"
      ],
      "metadata": {
        "id": "1RVaXhvgEOe1"
      },
      "execution_count": null,
      "outputs": []
    },
    {
      "cell_type": "code",
      "source": [
        "numbers = [1, 2, 3, 4, 5, 6, 7]\n",
        "res = [x * x for x in numbers]\n",
        "print(res)"
      ],
      "metadata": {
        "colab": {
          "base_uri": "https://localhost:8080/"
        },
        "id": "XEWrrgj4EOis",
        "outputId": "7fb36d6a-4202-4fd4-b0b5-27a8219993d3"
      },
      "execution_count": null,
      "outputs": [
        {
          "output_type": "stream",
          "name": "stdout",
          "text": [
            "[1, 4, 9, 16, 25, 36, 49]\n"
          ]
        }
      ]
    },
    {
      "cell_type": "code",
      "source": [
        "list1 = ['Hello', 'take']\n",
        "list2 = ['Dear', 'Sir']\n",
        "\n",
        "list3 = [i+j for i,j in zip(list1, list2)]\n",
        "print(list3)"
      ],
      "metadata": {
        "colab": {
          "base_uri": "https://localhost:8080/"
        },
        "id": "on5JNOrkEOmg",
        "outputId": "c9d8d948-17ed-4bd2-efba-6c0b534c2de2"
      },
      "execution_count": null,
      "outputs": [
        {
          "output_type": "stream",
          "name": "stdout",
          "text": [
            "['HelloDear', 'takeSir']\n"
          ]
        }
      ]
    },
    {
      "cell_type": "code",
      "source": [
        "list1 = ['Hello', 'take']\n",
        "list2 = ['Dear', 'Sir']\n",
        "\n",
        "list3 = [list1[0] + list2[0], list1[0] + list2[1], list1[1] + list2[0], list1[1] + list2[1]]\n",
        "#print(list3)\n",
        "\n",
        "#use list comprehension\n",
        "res = [x + y for x in list1 for y in list2]\n",
        "print(res)"
      ],
      "metadata": {
        "colab": {
          "base_uri": "https://localhost:8080/"
        },
        "id": "D1mxJ4WtEOq4",
        "outputId": "938bac2a-9031-4502-de5d-02d1963aba5e"
      },
      "execution_count": null,
      "outputs": [
        {
          "output_type": "stream",
          "name": "stdout",
          "text": [
            "['HelloDear', 'HelloSir', 'takeDear', 'takeSir']\n"
          ]
        }
      ]
    },
    {
      "cell_type": "code",
      "source": [
        "list1 = [10, 20, 30, 40]\n",
        "list2 = [100, 200, 300, 400]\n",
        "list2.reverse()\n",
        "\n",
        "x = zip(list1, list2)\n",
        "print(tuple(x))"
      ],
      "metadata": {
        "colab": {
          "base_uri": "https://localhost:8080/"
        },
        "id": "_iYdAwGvV0hm",
        "outputId": "6f5fa1a2-47cb-4b68-a02e-66198de66c69"
      },
      "execution_count": null,
      "outputs": [
        {
          "output_type": "stream",
          "name": "stdout",
          "text": [
            "((10, 400), (20, 300), (30, 200), (40, 100))\n"
          ]
        }
      ]
    },
    {
      "cell_type": "code",
      "source": [
        "list1 = [10, 20, 30, 40]\n",
        "list2 = [100, 200, 300, 400]\n",
        "\n",
        "for x, y in zip(list1, list2[::-1]):\n",
        "  print(x, y)"
      ],
      "metadata": {
        "colab": {
          "base_uri": "https://localhost:8080/"
        },
        "id": "uQoj858JV0nJ",
        "outputId": "be37aaf4-9be5-4fc1-d625-e9503fe42a1b"
      },
      "execution_count": null,
      "outputs": [
        {
          "output_type": "stream",
          "name": "stdout",
          "text": [
            "10 400\n",
            "20 300\n",
            "30 200\n",
            "40 100\n"
          ]
        }
      ]
    },
    {
      "cell_type": "code",
      "source": [
        "list1 = ['Mike', '', 'Emma', 'Kelly', '', 'Brad']\n",
        "\n",
        "res = list(filter(None, list1))\n",
        "print(res)"
      ],
      "metadata": {
        "colab": {
          "base_uri": "https://localhost:8080/"
        },
        "id": "DkypCv_JV0r_",
        "outputId": "0e80d68a-9591-4053-a1f6-015c2dc4c52c"
      },
      "execution_count": null,
      "outputs": [
        {
          "output_type": "stream",
          "name": "stdout",
          "text": [
            "['Mike', 'Emma', 'Kelly', 'Brad']\n"
          ]
        }
      ]
    },
    {
      "cell_type": "code",
      "source": [
        "list1 = [10, 20, [300, 400, [5000, 6000], 500], 30, 40]\n",
        "\n",
        "for i in list1[2][2]:\n",
        "  print(i)\n",
        "  if i == 6000:\n",
        "    list1[2][2].append(7000)\n",
        "  else:\n",
        "    print('No')\n",
        "print(list1)\n"
      ],
      "metadata": {
        "colab": {
          "base_uri": "https://localhost:8080/"
        },
        "id": "x7NDcO9AV0w8",
        "outputId": "24d9f61d-a8f2-4101-80d1-57470ea9608b"
      },
      "execution_count": null,
      "outputs": [
        {
          "output_type": "stream",
          "name": "stdout",
          "text": [
            "5000\n",
            "No\n",
            "6000\n",
            "7000\n",
            "No\n",
            "[10, 20, [300, 400, [5000, 6000, 7000], 500], 30, 40]\n"
          ]
        }
      ]
    },
    {
      "cell_type": "code",
      "source": [
        "list1 = [10, 20, [300, 400, [5000, 6000], 500], 30, 40]\n",
        "\n",
        "list2 = [list1[2][2].append(7000) for i in list1[2][2] if i == 6000]\n",
        "print(list2)"
      ],
      "metadata": {
        "colab": {
          "base_uri": "https://localhost:8080/"
        },
        "id": "xenWkYxJV01U",
        "outputId": "9ef8d20c-7c08-41af-87d5-a4737f31944a"
      },
      "execution_count": null,
      "outputs": [
        {
          "output_type": "stream",
          "name": "stdout",
          "text": [
            "[None]\n"
          ]
        }
      ]
    },
    {
      "cell_type": "code",
      "source": [
        "list1 = ['a', 'b', ['c', ['d', 'e',['f', 'g'], 'k'], 'l'], 'm', 'n']\n",
        "\n",
        "#sub list to add\n",
        "sub_list = ['h', 'i', 'j']\n",
        "\n",
        "list1[2][1][2].extend(sub_list)\n",
        "print(list1)"
      ],
      "metadata": {
        "colab": {
          "base_uri": "https://localhost:8080/"
        },
        "id": "Zfyii77rV05u",
        "outputId": "6379fb60-330b-4b45-9915-22b43c506538"
      },
      "execution_count": null,
      "outputs": [
        {
          "output_type": "stream",
          "name": "stdout",
          "text": [
            "['a', 'b', ['c', ['d', 'e', ['f', 'g', 'h', 'i', 'j'], 'k'], 'l'], 'm', 'n']\n"
          ]
        }
      ]
    },
    {
      "cell_type": "code",
      "source": [
        "list1 = [5, 10, 15, 20, 25, 50, 20]\n",
        "\n",
        "for i in list1:\n",
        "  if i == 20:\n",
        "    x = (list1.index(i))\n",
        "    list1[x] = 200\n",
        "    print(list1)\n",
        "  else:\n",
        "    print(\"no\")"
      ],
      "metadata": {
        "colab": {
          "base_uri": "https://localhost:8080/"
        },
        "id": "9WVSYgmxYMfh",
        "outputId": "ecaf248e-63b7-47e2-eb52-2437532513bb"
      },
      "execution_count": null,
      "outputs": [
        {
          "output_type": "stream",
          "name": "stdout",
          "text": [
            "no\n",
            "no\n",
            "no\n",
            "[5, 10, 15, 200, 25, 50, 20]\n",
            "no\n",
            "no\n",
            "[5, 10, 15, 200, 25, 50, 200]\n"
          ]
        }
      ]
    },
    {
      "cell_type": "code",
      "source": [
        "list1 = [5, 10, 20, 25, 50, 20]\n",
        "index = list1.index(20)\n",
        "\n",
        "list1[index] = 200\n",
        "print(list1)"
      ],
      "metadata": {
        "colab": {
          "base_uri": "https://localhost:8080/"
        },
        "id": "_swX1n70YMsV",
        "outputId": "3004ba10-6b5c-4ddf-9ffc-b746b3195cc4"
      },
      "execution_count": null,
      "outputs": [
        {
          "output_type": "stream",
          "name": "stdout",
          "text": [
            "[5, 10, 200, 25, 50, 20]\n"
          ]
        }
      ]
    },
    {
      "cell_type": "code",
      "source": [
        "list1 = [5, 20, 15, 20, 25, 50, 20]\n",
        "\n",
        "for i in list1:\n",
        "  if i == 20:\n",
        "    list1.remove(i)\n",
        "print(list1)\n"
      ],
      "metadata": {
        "colab": {
          "base_uri": "https://localhost:8080/"
        },
        "id": "o-zXlL1eYM4p",
        "outputId": "d2835bbd-8226-4c4f-a601-9e01e444dc8d"
      },
      "execution_count": null,
      "outputs": [
        {
          "output_type": "stream",
          "name": "stdout",
          "text": [
            "[5, 15, 25, 50]\n"
          ]
        }
      ]
    },
    {
      "cell_type": "code",
      "source": [
        "list1 = [5, 20, 15, 20, 25, 50, 20]\n",
        "\n",
        "def remove_value(sample_list, val):\n",
        "  return[i for i in sample_list if i !=val]\n",
        "\n",
        "res = remove_value(list1, 20)\n",
        "print(res)"
      ],
      "metadata": {
        "colab": {
          "base_uri": "https://localhost:8080/"
        },
        "id": "VnD_HfXEV097",
        "outputId": "fd338200-a601-4819-e5a5-cece957d60e6"
      },
      "execution_count": null,
      "outputs": [
        {
          "output_type": "stream",
          "name": "stdout",
          "text": [
            "[20, 20, 20]\n"
          ]
        }
      ]
    },
    {
      "cell_type": "code",
      "source": [
        "list1 = [5, 20, 15, 20, 25, 50, 20]\n",
        "\n",
        "while 20 in list1:\n",
        "  list1.remove(20)\n",
        "print(list1)"
      ],
      "metadata": {
        "colab": {
          "base_uri": "https://localhost:8080/"
        },
        "id": "_Iyds3OqV1Ck",
        "outputId": "f81cf66c-b155-429d-a500-01f81f480e9f"
      },
      "execution_count": null,
      "outputs": [
        {
          "output_type": "stream",
          "name": "stdout",
          "text": [
            "[5, 15, 25, 50]\n"
          ]
        }
      ]
    },
    {
      "cell_type": "markdown",
      "source": [
        "WHILE LOOP"
      ],
      "metadata": {
        "id": "-qOPVoOFTtbc"
      }
    },
    {
      "cell_type": "code",
      "source": [
        "count = 1\n",
        "# condition: Run loop till count is less than 3\n",
        "while count<3:\n",
        "  print(count)\n",
        "  count = count + 1"
      ],
      "metadata": {
        "colab": {
          "base_uri": "https://localhost:8080/"
        },
        "id": "PoJJU60Ab7zM",
        "outputId": "3b967311-5ada-4195-d50b-9634255380fa"
      },
      "execution_count": null,
      "outputs": [
        {
          "output_type": "stream",
          "name": "stdout",
          "text": [
            "1\n",
            "2\n"
          ]
        }
      ]
    },
    {
      "cell_type": "code",
      "source": [
        "count = 0\n",
        "number = 180\n",
        "while number > 10:\n",
        "  number = number/3\n",
        "  count = count + 1\n",
        "\n",
        "print('Total interation required', count)"
      ],
      "metadata": {
        "colab": {
          "base_uri": "https://localhost:8080/"
        },
        "id": "cfiE7b0tb79v",
        "outputId": "055b9492-5756-40b1-ab6f-86005770d848"
      },
      "execution_count": null,
      "outputs": [
        {
          "output_type": "stream",
          "name": "stdout",
          "text": [
            "Total interation required 3\n"
          ]
        }
      ]
    },
    {
      "cell_type": "code",
      "source": [
        "n = int(input('Please enter number'))\n",
        "while n > 0:\n",
        "  if n % 2 == 0:\n",
        "    print(n, 'is an even number')\n",
        "  else:\n",
        "    print(n, 'is an odd number')\n",
        "  \n",
        "  n = n-1"
      ],
      "metadata": {
        "colab": {
          "base_uri": "https://localhost:8080/"
        },
        "id": "KPHDqgVzb8I8",
        "outputId": "41cb3bb4-e0a3-4719-dd11-b330096e95f2"
      },
      "execution_count": null,
      "outputs": [
        {
          "output_type": "stream",
          "name": "stdout",
          "text": [
            "Please enter number5\n",
            "5 is an odd number\n",
            "4 is an even number\n",
            "3 is an odd number\n",
            "2 is an even number\n",
            "1 is an odd number\n"
          ]
        }
      ]
    },
    {
      "cell_type": "code",
      "source": [
        "str_x = 'Emma is good developer. Emma is a writer'\n",
        "\n",
        "x = str_x.count('Emma')\n",
        "print(x)"
      ],
      "metadata": {
        "colab": {
          "base_uri": "https://localhost:8080/"
        },
        "id": "epObXsFub8Vp",
        "outputId": "a4aa3ac8-bdac-43c1-c963-3f589300936b"
      },
      "execution_count": null,
      "outputs": [
        {
          "output_type": "stream",
          "name": "stdout",
          "text": [
            "2\n"
          ]
        }
      ]
    },
    {
      "cell_type": "code",
      "source": [
        "def count_emma(statement):\n",
        "  print('Given String: ', statement)\n",
        "  count = 0\n",
        "  for i in range(len(statement)-1):\n",
        "    count += statement[i:i + 4] == 'Emma'\n",
        "  return count\n",
        "count = count_emma('Emma is good developer. Emma is a writer')\n",
        "print(\"Emma appeared \", count, 'times')"
      ],
      "metadata": {
        "colab": {
          "base_uri": "https://localhost:8080/"
        },
        "id": "h9tpqv55b8hf",
        "outputId": "fb4b5029-a461-484c-824e-1915f3998aef"
      },
      "execution_count": null,
      "outputs": [
        {
          "output_type": "stream",
          "name": "stdout",
          "text": [
            "Given String:  Emma is good developer. Emma is a writer\n",
            "Emma appeared  2 times\n"
          ]
        }
      ]
    },
    {
      "cell_type": "code",
      "source": [
        "for num in range(6):\n",
        "  for i in range(num):\n",
        "    print(num, end=' ')\n",
        "  print('\\n')\n",
        "\n",
        "\n",
        "\n"
      ],
      "metadata": {
        "colab": {
          "base_uri": "https://localhost:8080/"
        },
        "id": "R27t2OhCb8xz",
        "outputId": "937f3a48-48e6-4238-f9a3-0d42d610f553"
      },
      "execution_count": null,
      "outputs": [
        {
          "output_type": "stream",
          "name": "stdout",
          "text": [
            "\n",
            "\n",
            "1 \n",
            "\n",
            "2 2 \n",
            "\n",
            "3 3 3 \n",
            "\n",
            "4 4 4 4 \n",
            "\n",
            "5 5 5 5 5 \n",
            "\n"
          ]
        }
      ]
    },
    {
      "cell_type": "code",
      "source": [
        "#palindrome number \n",
        "def check_palindrome(num):\n",
        "  print('original number', num)\n",
        "  original_num = num\n",
        "\n",
        "  #reverse the given number\n",
        "  reverse_num = 0\n",
        "  while num > 0:\n",
        "    reminder = num % 10\n",
        "    reverse_num = (reverse_num * 10) + reminder\n",
        "    num = num // 10\n",
        "\n",
        "  #check numbers\n",
        "  if original_num == reverse_num:\n",
        "    print('Given number palindrome')\n",
        "  else:\n",
        "    print('Given number is not palindrome')\n",
        "\n",
        "check_palindrome(121)\n",
        "check_palindrome(125)"
      ],
      "metadata": {
        "colab": {
          "base_uri": "https://localhost:8080/"
        },
        "id": "qqOotEv_FMLz",
        "outputId": "482c01db-0867-4029-e216-24168f57a4a1"
      },
      "execution_count": null,
      "outputs": [
        {
          "output_type": "stream",
          "name": "stdout",
          "text": [
            "original number 121\n",
            "Given number palindrome\n",
            "original number 125\n",
            "Given number is not palindrome\n"
          ]
        }
      ]
    },
    {
      "cell_type": "code",
      "source": [
        "list1 = [10, 20, 25, 30, 35]\n",
        "list2 = [40, 45, 60, 75, 90]\n",
        "\n",
        "list3 = [a+b for a in list1 if a%2!=0 for b in list2 if b%2==0]\n",
        "print(list3)"
      ],
      "metadata": {
        "colab": {
          "base_uri": "https://localhost:8080/"
        },
        "id": "SnwFnr7zJSI3",
        "outputId": "a377a3a3-9602-45e8-bf3d-df8b0f011643"
      },
      "execution_count": null,
      "outputs": [
        {
          "output_type": "stream",
          "name": "stdout",
          "text": [
            "[65, 85, 115, 75, 95, 125]\n"
          ]
        }
      ]
    },
    {
      "cell_type": "code",
      "source": [
        "list1 = [10, 20, 25, 30, 35]\n",
        "list2 = [40, 45, 60, 75, 90]\n",
        "\n",
        "result_list=[]\n",
        "for a in list1:\n",
        "  if a%2!=0:\n",
        "    result_list.append(a)\n",
        "for b in list2:\n",
        "  if b%2==0:\n",
        "    result_list.append(b)\n",
        "print(result_list)"
      ],
      "metadata": {
        "colab": {
          "base_uri": "https://localhost:8080/"
        },
        "id": "5JR97UhPJSXj",
        "outputId": "8b1d7f04-de82-4553-ed4b-90fd89f5aca3"
      },
      "execution_count": null,
      "outputs": [
        {
          "output_type": "stream",
          "name": "stdout",
          "text": [
            "[25, 35, 40, 60, 90]\n"
          ]
        }
      ]
    },
    {
      "cell_type": "code",
      "source": [
        "num = 123\n",
        "while num > 0:\n",
        "  reminder = num % 10\n",
        "  num = num // 10\n",
        "  print(reminder, end=' ')"
      ],
      "metadata": {
        "colab": {
          "base_uri": "https://localhost:8080/"
        },
        "id": "ge4Tbe-fJTGs",
        "outputId": "5274179c-8169-48a7-9ca2-67728edd1c69"
      },
      "execution_count": null,
      "outputs": [
        {
          "output_type": "stream",
          "name": "stdout",
          "text": [
            "3 2 1 "
          ]
        }
      ]
    },
    {
      "cell_type": "code",
      "source": [
        "number = 7536\n",
        "while number > 0:\n",
        "  #get the last digit\n",
        "  digit = number % 10\n",
        "  #remove the last digit and repeat the loop\n",
        "  number = number // 10\n",
        "  print(number, end=' ')"
      ],
      "metadata": {
        "colab": {
          "base_uri": "https://localhost:8080/"
        },
        "id": "4JigtwgYJTXZ",
        "outputId": "54de39ba-f2cc-4b52-8043-85fc72497115"
      },
      "execution_count": null,
      "outputs": [
        {
          "output_type": "stream",
          "name": "stdout",
          "text": [
            "753 75 7 0 "
          ]
        }
      ]
    },
    {
      "cell_type": "code",
      "source": [
        "def tax_income(income):\n",
        "  income_rate = 0\n",
        "\n",
        "  if income <= 10000:\n",
        "    income_rate = 0\n",
        "\n",
        "  if income <= 20000:\n",
        "    x = income - 10000\n",
        "    income_rate = x * 10 / 100\n",
        "\n",
        "  else:\n",
        "    income_rate = 0\n",
        "    income_rate = 10000 * 10 / 100\n",
        "    income_rate += (income - 20000) * 20 / 100\n",
        "  print('Total tax to pay is', income_rate) \n",
        "\n",
        "tax_income(45000)"
      ],
      "metadata": {
        "colab": {
          "base_uri": "https://localhost:8080/"
        },
        "id": "N3TG82ELJTnB",
        "outputId": "9863054f-a739-485e-ca5a-2d639348c069"
      },
      "execution_count": null,
      "outputs": [
        {
          "output_type": "stream",
          "name": "stdout",
          "text": [
            "Total tax to pay is 6000.0\n",
            "\n"
          ]
        }
      ]
    },
    {
      "cell_type": "code",
      "source": [
        "#outer loop\n",
        "\n",
        "for i in range(1, 11):\n",
        "  #nested loop\n",
        "  #to iterate from 1 to 10\n",
        "  for j in range(1, 11):\n",
        "    #print multiplication\n",
        "    print(i * j, end=' ')\n",
        "  print('\\n')"
      ],
      "metadata": {
        "colab": {
          "base_uri": "https://localhost:8080/"
        },
        "id": "tg8olAU6EfON",
        "outputId": "ee2a7617-0036-4bd3-d549-fc7ad4af92a1"
      },
      "execution_count": null,
      "outputs": [
        {
          "output_type": "stream",
          "name": "stdout",
          "text": [
            "1 2 3 4 5 6 7 8 9 10 \n",
            "\n",
            "2 4 6 8 10 12 14 16 18 20 \n",
            "\n",
            "3 6 9 12 15 18 21 24 27 30 \n",
            "\n",
            "4 8 12 16 20 24 28 32 36 40 \n",
            "\n",
            "5 10 15 20 25 30 35 40 45 50 \n",
            "\n",
            "6 12 18 24 30 36 42 48 54 60 \n",
            "\n",
            "7 14 21 28 35 42 49 56 63 70 \n",
            "\n",
            "8 16 24 32 40 48 56 64 72 80 \n",
            "\n",
            "9 18 27 36 45 54 63 72 81 90 \n",
            "\n",
            "10 20 30 40 50 60 70 80 90 100 \n",
            "\n"
          ]
        }
      ]
    },
    {
      "cell_type": "code",
      "source": [
        "for i in range(6):\n",
        "  for j in range(i):\n",
        "    print('*', end=' ')\n",
        "  print()"
      ],
      "metadata": {
        "colab": {
          "base_uri": "https://localhost:8080/"
        },
        "id": "veOCxO5TEffm",
        "outputId": "e4e6265f-3a63-4db0-eb26-6e32fbd4edf8"
      },
      "execution_count": null,
      "outputs": [
        {
          "output_type": "stream",
          "name": "stdout",
          "text": [
            "\n",
            "* \n",
            "* * \n",
            "* * * \n",
            "* * * * \n",
            "* * * * * \n"
          ]
        }
      ]
    },
    {
      "cell_type": "code",
      "source": [
        "names = ['Kelly', 'Jessa', 'Emma']\n",
        "#outer loop\n",
        "for name in names:\n",
        "  #inner while loop\n",
        "  count = 0\n",
        "  while count < 5:\n",
        "    print(name, end=' ')\n",
        "    count = count +1\n",
        "  print()"
      ],
      "metadata": {
        "colab": {
          "base_uri": "https://localhost:8080/"
        },
        "id": "w3K5T_skEfus",
        "outputId": "b9948fc2-ca58-42ae-d534-bd72dc71971c"
      },
      "execution_count": null,
      "outputs": [
        {
          "output_type": "stream",
          "name": "stdout",
          "text": [
            "Kelly Kelly Kelly Kelly Kelly \n",
            "Jessa Jessa Jessa Jessa Jessa \n",
            "Emma Emma Emma Emma Emma \n"
          ]
        }
      ]
    },
    {
      "cell_type": "code",
      "source": [
        "for i in range(6):\n",
        "  count = 0\n",
        "  while count < 3:\n",
        "    print('*', end=' ')\n",
        "    count = count + 1\n",
        "  print()"
      ],
      "metadata": {
        "colab": {
          "base_uri": "https://localhost:8080/"
        },
        "id": "2U_wiV8bNIIN",
        "outputId": "3e317158-bb20-41b3-c8ff-4dd33185492b"
      },
      "execution_count": null,
      "outputs": [
        {
          "output_type": "stream",
          "name": "stdout",
          "text": [
            "* * * \n",
            "* * * \n",
            "* * * \n",
            "* * * \n",
            "* * * \n",
            "* * * \n"
          ]
        }
      ]
    },
    {
      "cell_type": "code",
      "source": [
        "for i in range(4):\n",
        "  for j in range(4):\n",
        "    if j == i:\n",
        "      break\n",
        "    print(i, j)"
      ],
      "metadata": {
        "colab": {
          "base_uri": "https://localhost:8080/"
        },
        "id": "f0YVHKC6NIbQ",
        "outputId": "b6ba57a8-c09f-47b8-ea32-8cd1cfcfc429"
      },
      "execution_count": null,
      "outputs": [
        {
          "output_type": "stream",
          "name": "stdout",
          "text": [
            "1 0\n",
            "2 0\n",
            "2 1\n",
            "3 0\n",
            "3 1\n",
            "3 2\n"
          ]
        }
      ]
    },
    {
      "cell_type": "code",
      "source": [
        "first = [2, 4, 6]\n",
        "second = [2, 4, 6]\n",
        "\n",
        "for i in first:\n",
        "  for j in second:\n",
        "    if i == j:\n",
        "      continue\n",
        "    print(i, '*', j, '= ', i * j)"
      ],
      "metadata": {
        "id": "EhmDpOsfNIoZ"
      },
      "execution_count": null,
      "outputs": []
    },
    {
      "cell_type": "code",
      "source": [
        "first = [2, 3, 4]\n",
        "second = [20, 30, 40]\n",
        "final = []\n",
        "\n",
        "for i in first:\n",
        "  for j in second:\n",
        "    final.append(i+j)\n",
        "print(final)"
      ],
      "metadata": {
        "colab": {
          "base_uri": "https://localhost:8080/"
        },
        "id": "0L4zeMnFNIzl",
        "outputId": "cb93b740-0a2e-4773-ed51-d9b25a3bc2bd"
      },
      "execution_count": null,
      "outputs": [
        {
          "output_type": "stream",
          "name": "stdout",
          "text": [
            "[22, 32, 42, 23, 33, 43, 24, 34, 44]\n"
          ]
        }
      ]
    },
    {
      "cell_type": "code",
      "source": [
        "first = [2, 3, 4]\n",
        "second = [20, 30, 40]\n",
        "final = [i+j for i in first for j in second]\n",
        "print(final)"
      ],
      "metadata": {
        "colab": {
          "base_uri": "https://localhost:8080/"
        },
        "id": "qT_wcRlQU7Bf",
        "outputId": "fb80db1f-21f9-4e92-b5b1-ecf5108fc42f"
      },
      "execution_count": null,
      "outputs": [
        {
          "output_type": "stream",
          "name": "stdout",
          "text": [
            "[22, 32, 42, 23, 33, 43, 24, 34, 44]\n"
          ]
        }
      ]
    },
    {
      "cell_type": "code",
      "source": [
        "name = 'Jesaa29Roy'\n",
        "size = len(name)\n",
        "i = -1\n",
        "#iterate loop till the last character\n",
        "while i < size-1:\n",
        "  i = i + 1\n",
        "  #break loop if current character is number\n",
        "  if name[i].isalpha():\n",
        "    continue\n",
        "  #print current character\n",
        "  print(name[i], end=' ')\n",
        "  "
      ],
      "metadata": {
        "colab": {
          "base_uri": "https://localhost:8080/"
        },
        "id": "F_VaM80UVUeR",
        "outputId": "4ad6cbd5-855b-4bfd-a17b-93571decc9eb"
      },
      "execution_count": null,
      "outputs": [
        {
          "output_type": "stream",
          "name": "stdout",
          "text": [
            "2 9 "
          ]
        }
      ]
    },
    {
      "cell_type": "code",
      "source": [
        "name = 'Jesaa29Roy'\n",
        "size = len(name)\n",
        "i = -1\n",
        "while i < size-1:\n",
        "  i = i + 1\n",
        "  if not name[i].isalpha():\n",
        "    continue\n",
        "  print(name[i], end=' ')"
      ],
      "metadata": {
        "colab": {
          "base_uri": "https://localhost:8080/"
        },
        "id": "EYXJ1B90VUux",
        "outputId": "62974640-fbdb-40d8-ebe4-d989c6cf01f1"
      },
      "execution_count": null,
      "outputs": [
        {
          "output_type": "stream",
          "name": "stdout",
          "text": [
            "J e s a a R o y "
          ]
        }
      ]
    },
    {
      "cell_type": "code",
      "source": [
        "n = 4\n",
        "while n > 0:\n",
        "  n = n - 1\n",
        "  pass"
      ],
      "metadata": {
        "id": "ePisVPfUVU3p"
      },
      "execution_count": null,
      "outputs": []
    },
    {
      "cell_type": "code",
      "source": [
        "i = 0\n",
        "while i < 5:\n",
        "  b = 0\n",
        "  while b < i:\n",
        "    print('*',end='')\n",
        "    b = b + 1\n",
        "  i = i + 1\n",
        "  print()"
      ],
      "metadata": {
        "colab": {
          "base_uri": "https://localhost:8080/"
        },
        "id": "SeKiljcTCd9l",
        "outputId": "59dd17b1-4c7e-4cec-da68-74dd1d93b74a"
      },
      "execution_count": null,
      "outputs": [
        {
          "output_type": "stream",
          "name": "stdout",
          "text": [
            "\n",
            "*\n",
            "**\n",
            "***\n",
            "****\n"
          ]
        }
      ]
    },
    {
      "cell_type": "code",
      "source": [
        "i = 0\n",
        "while i < 5:\n",
        "  for j in range(i):\n",
        "    print('*', end=' ')\n",
        "  print('')\n",
        "  i = i + 1"
      ],
      "metadata": {
        "colab": {
          "base_uri": "https://localhost:8080/"
        },
        "id": "C7zm6-PLCeMJ",
        "outputId": "8307ae92-e72d-49dc-b0a1-f445706817b5"
      },
      "execution_count": null,
      "outputs": [
        {
          "output_type": "stream",
          "name": "stdout",
          "text": [
            "\n",
            "* \n",
            "* * \n",
            "* * * \n",
            "* * * * \n"
          ]
        }
      ]
    },
    {
      "cell_type": "code",
      "source": [
        "i = 1\n",
        "while i <= 5:\n",
        "  print(i)\n",
        "  i = i + 1\n",
        "else:\n",
        "  print('done')"
      ],
      "metadata": {
        "colab": {
          "base_uri": "https://localhost:8080/"
        },
        "id": "Wn_O7jDbCeZ8",
        "outputId": "e0e6a8a2-afba-45c2-d4f4-57fc4bb7746f"
      },
      "execution_count": null,
      "outputs": [
        {
          "output_type": "stream",
          "name": "stdout",
          "text": [
            "1\n",
            "2\n",
            "3\n",
            "4\n",
            "5\n",
            "done\n"
          ]
        }
      ]
    },
    {
      "cell_type": "code",
      "source": [
        "i = 1\n",
        "while i <= 5:\n",
        "  print(i)\n",
        "  if i == 3:\n",
        "    break\n",
        "  i = i + 1\n",
        "else:\n",
        "  print('Done')"
      ],
      "metadata": {
        "colab": {
          "base_uri": "https://localhost:8080/"
        },
        "id": "CBlHWXvkpsP8",
        "outputId": "d862c975-3c9c-44f1-a242-8d1d368cf326"
      },
      "execution_count": null,
      "outputs": [
        {
          "output_type": "stream",
          "name": "stdout",
          "text": [
            "1\n",
            "2\n",
            "3\n"
          ]
        }
      ]
    },
    {
      "cell_type": "code",
      "source": [
        "i = 10\n",
        "while i >= 0:\n",
        "  print(i, end=' ')\n",
        "  i = i - 1"
      ],
      "metadata": {
        "colab": {
          "base_uri": "https://localhost:8080/"
        },
        "id": "uTxTzMJEpsh2",
        "outputId": "b8778a88-9585-41ff-ace8-9dac2b217948"
      },
      "execution_count": null,
      "outputs": [
        {
          "output_type": "stream",
          "name": "stdout",
          "text": [
            "10 9 8 7 6 5 4 3 2 1 0 "
          ]
        }
      ]
    },
    {
      "cell_type": "code",
      "source": [
        "name = 'Jessa'\n",
        "i = 0\n",
        "res = len(name) - 1\n",
        "while i <= res:\n",
        "  print(name[i])\n",
        "  i = i + 1"
      ],
      "metadata": {
        "colab": {
          "base_uri": "https://localhost:8080/"
        },
        "id": "ksqtFs4qpswu",
        "outputId": "93d96ed4-60b4-4023-e7a2-163a601e62fb"
      },
      "execution_count": null,
      "outputs": [
        {
          "output_type": "stream",
          "name": "stdout",
          "text": [
            "J\n",
            "e\n",
            "s\n",
            "s\n",
            "a\n"
          ]
        }
      ]
    },
    {
      "cell_type": "code",
      "source": [
        "final = [[x, y] for x in [10, 20, 30] for y in [30, 10, 50] if x != y]\n",
        "print(final)"
      ],
      "metadata": {
        "colab": {
          "base_uri": "https://localhost:8080/"
        },
        "id": "FpGsxLygps8y",
        "outputId": "9dd96c00-64e9-4169-916a-2522fdc1c55a"
      },
      "execution_count": null,
      "outputs": [
        {
          "output_type": "stream",
          "name": "stdout",
          "text": [
            "[[10, 30], [10, 50], [20, 30], [20, 10], [20, 50], [30, 10], [30, 50]]\n"
          ]
        }
      ]
    },
    {
      "cell_type": "code",
      "source": [
        "i = 1\n",
        "while i <= 5:\n",
        "  j = 1\n",
        "  while j <= 10:\n",
        "    print(j, end=' ')\n",
        "    j = j + 1\n",
        "  i = i + 1\n",
        "  print()"
      ],
      "metadata": {
        "colab": {
          "base_uri": "https://localhost:8080/"
        },
        "id": "HWXEfFvzvTj9",
        "outputId": "8de67b24-e4cd-4d3d-994f-82ca049d22d5"
      },
      "execution_count": null,
      "outputs": [
        {
          "output_type": "stream",
          "name": "stdout",
          "text": [
            "1 2 3 4 5 6 7 8 9 10 \n",
            "1 2 3 4 5 6 7 8 9 10 \n",
            "1 2 3 4 5 6 7 8 9 10 \n",
            "1 2 3 4 5 6 7 8 9 10 \n",
            "1 2 3 4 5 6 7 8 9 10 \n"
          ]
        }
      ]
    },
    {
      "cell_type": "code",
      "source": [
        "print('Show Perfect number from 1 to 100')\n",
        "n = 2\n",
        "#outer while loop\n",
        "while n <= 100:\n",
        "  #print(n)\n",
        "  x_sum = 0\n",
        "  #inner for loop\n",
        "  for i in range(1, n):\n",
        "    if n % i == 0:\n",
        "      x_sum += i\n",
        "  if x_sum ==n:\n",
        "    print('Perfect number:', n)\n",
        "  n += 1"
      ],
      "metadata": {
        "colab": {
          "base_uri": "https://localhost:8080/"
        },
        "id": "1Kd114BuCeny",
        "outputId": "0362a81d-7470-4fdc-d41e-bbeb74e20023"
      },
      "execution_count": null,
      "outputs": [
        {
          "output_type": "stream",
          "name": "stdout",
          "text": [
            "Show Perfect number from 1 to 100\n",
            "Perfect number: 6\n",
            "Perfect number: 28\n"
          ]
        }
      ]
    },
    {
      "cell_type": "code",
      "source": [
        "numbers = [[1, 2, 3], [4, 5, 6]]\n",
        "\n",
        "cnt = 0\n",
        "for i in numbers:\n",
        "  for j in i:\n",
        "    print('iteration', cnt, end=': ')\n",
        "    print(j)\n",
        "    cnt = cnt + 1"
      ],
      "metadata": {
        "colab": {
          "base_uri": "https://localhost:8080/"
        },
        "id": "iO6cvfngKilc",
        "outputId": "617e7d9d-3930-4c7e-a101-c5f6133e4dd1"
      },
      "execution_count": null,
      "outputs": [
        {
          "output_type": "stream",
          "name": "stdout",
          "text": [
            "iteration 0: 1\n",
            "iteration 1: 2\n",
            "iteration 2: 3\n",
            "iteration 3: 4\n",
            "iteration 4: 5\n",
            "iteration 5: 6\n"
          ]
        }
      ]
    },
    {
      "cell_type": "code",
      "source": [
        "for i in range(1, 11):\n",
        "  for b in range(1, 11):\n",
        "    print(i * b, end=' ')\n",
        "  print()"
      ],
      "metadata": {
        "colab": {
          "base_uri": "https://localhost:8080/"
        },
        "id": "7kyAXULcO_HC",
        "outputId": "a5f152a7-cfaf-4af6-bf64-668d00b08413"
      },
      "execution_count": null,
      "outputs": [
        {
          "output_type": "stream",
          "name": "stdout",
          "text": [
            "1 2 3 4 5 6 7 8 9 10 \n",
            "2 4 6 8 10 12 14 16 18 20 \n",
            "3 6 9 12 15 18 21 24 27 30 \n",
            "4 8 12 16 20 24 28 32 36 40 \n",
            "5 10 15 20 25 30 35 40 45 50 \n",
            "6 12 18 24 30 36 42 48 54 60 \n",
            "7 14 21 28 35 42 49 56 63 70 \n",
            "8 16 24 32 40 48 56 64 72 80 \n",
            "9 18 27 36 45 54 63 72 81 90 \n",
            "10 20 30 40 50 60 70 80 90 100 \n"
          ]
        }
      ]
    },
    {
      "cell_type": "code",
      "source": [
        "for i in range(1,6):\n",
        "  for j in range(i):\n",
        "    print(i, end=' ')\n",
        "  print()"
      ],
      "metadata": {
        "colab": {
          "base_uri": "https://localhost:8080/"
        },
        "id": "F9Xnz_HkO_XD",
        "outputId": "e653db6b-e17b-46e3-efd8-f2f08be67601"
      },
      "execution_count": null,
      "outputs": [
        {
          "output_type": "stream",
          "name": "stdout",
          "text": [
            "1 \n",
            "2 2 \n",
            "3 3 3 \n",
            "4 4 4 4 \n",
            "5 5 5 5 5 \n"
          ]
        }
      ]
    },
    {
      "cell_type": "code",
      "source": [
        "row = 6\n",
        "c = 0\n",
        "for i in range(row, 0, -1):\n",
        "  c += 1\n",
        "  for j in range(1, i):\n",
        "    print(i, end=' ')\n",
        "  print()"
      ],
      "metadata": {
        "colab": {
          "base_uri": "https://localhost:8080/"
        },
        "id": "OgzrMVv4O_i0",
        "outputId": "06ac55cb-4a49-41c4-ad4d-a62c91b4a153"
      },
      "execution_count": null,
      "outputs": [
        {
          "output_type": "stream",
          "name": "stdout",
          "text": [
            "6 6 6 6 6 \n",
            "5 5 5 5 \n",
            "4 4 4 \n",
            "3 3 \n",
            "2 \n",
            "\n"
          ]
        }
      ]
    },
    {
      "cell_type": "code",
      "source": [
        "rows = 6\n",
        "b = 0\n",
        "for i in range(rows, 0, -1):\n",
        "  b += 1\n",
        "  for j in range(1, i):\n",
        "    print(b, end=' ')\n",
        "  print()"
      ],
      "metadata": {
        "colab": {
          "base_uri": "https://localhost:8080/"
        },
        "id": "TCdmy6ZyO_ut",
        "outputId": "be27bf5f-c887-4571-a325-5a3ee8599ab9"
      },
      "execution_count": null,
      "outputs": [
        {
          "output_type": "stream",
          "name": "stdout",
          "text": [
            "1 1 1 1 1 \n",
            "2 2 2 2 \n",
            "3 3 3 \n",
            "4 4 \n",
            "5 \n",
            "\n"
          ]
        }
      ]
    },
    {
      "cell_type": "code",
      "source": [
        "age = int(input('Your age: '))\n",
        "if(age < 3):\n",
        "  print('Free')\n",
        "if ((age > 3) and (age < 12)) < 12:\n",
        "  print('10dollar')\n",
        "else:\n",
        "  print('15dollar')\n"
      ],
      "metadata": {
        "colab": {
          "base_uri": "https://localhost:8080/"
        },
        "id": "OeiiACCVlINy",
        "outputId": "4cd60e6d-6983-4911-e6be-02fb1aa6a2a8"
      },
      "execution_count": null,
      "outputs": [
        {
          "output_type": "stream",
          "name": "stdout",
          "text": [
            "Your age: 8\n",
            "10dollar\n"
          ]
        }
      ]
    },
    {
      "cell_type": "code",
      "source": [
        "for i in range(5, 0, -1):\n",
        "  for j in range(i):\n",
        "    print('5', end=' ')\n",
        "  print()\n"
      ],
      "metadata": {
        "colab": {
          "base_uri": "https://localhost:8080/"
        },
        "id": "KXzdGU-hlIhc",
        "outputId": "7c526c32-b608-414f-d880-4dd6c1b578b7"
      },
      "execution_count": null,
      "outputs": [
        {
          "output_type": "stream",
          "name": "stdout",
          "text": [
            "5 5 5 5 5 \n",
            "5 5 5 5 \n",
            "5 5 5 \n",
            "5 5 \n",
            "5 \n"
          ]
        }
      ]
    },
    {
      "cell_type": "code",
      "source": [
        "for i in range(5, 0, -1):\n",
        "  num = [0, 1, 2, 3, 4, 5]\n",
        "  c = 0\n",
        "  for j in range(i+1):\n",
        "    print(num[j], end=' ')\n",
        "\n",
        "  print()\n"
      ],
      "metadata": {
        "colab": {
          "base_uri": "https://localhost:8080/"
        },
        "id": "Lcky71wMRpEl",
        "outputId": "a850d51f-a0ff-4466-b9e5-4c445b8c14ea"
      },
      "execution_count": null,
      "outputs": [
        {
          "output_type": "stream",
          "name": "stdout",
          "text": [
            "0 1 2 3 4 5 \n",
            "0 1 2 3 4 \n",
            "0 1 2 3 \n",
            "0 1 2 \n",
            "0 1 \n"
          ]
        }
      ]
    },
    {
      "cell_type": "code",
      "source": [
        "rows = 5\n",
        "for i in range(rows, 0, -1):\n",
        "  for j in range(0, i + 1):\n",
        "    print(j, end=' ')\n",
        "  print()"
      ],
      "metadata": {
        "colab": {
          "base_uri": "https://localhost:8080/"
        },
        "id": "j6516usFRpkn",
        "outputId": "6eb3166b-3cce-414b-a6a2-4d032f74288b"
      },
      "execution_count": null,
      "outputs": [
        {
          "output_type": "stream",
          "name": "stdout",
          "text": [
            "0 1 2 3 4 5 \n",
            "0 1 2 3 4 \n",
            "0 1 2 3 \n",
            "0 1 2 \n",
            "0 1 \n"
          ]
        }
      ]
    },
    {
      "cell_type": "code",
      "source": [
        "rows = 10\n",
        "for i in range(1, rows):\n",
        "  for j in range(i):\n",
        "    if not i % 2 == 0:\n",
        "      print(i, end=' ')\n",
        "  print()\n"
      ],
      "metadata": {
        "colab": {
          "base_uri": "https://localhost:8080/"
        },
        "id": "0zWDeXD_Rp1s",
        "outputId": "f6dc7176-9180-415f-d917-811157924b8a"
      },
      "execution_count": null,
      "outputs": [
        {
          "output_type": "stream",
          "name": "stdout",
          "text": [
            "1 \n",
            "\n",
            "3 3 3 \n",
            "\n",
            "5 5 5 5 5 \n",
            "\n",
            "7 7 7 7 7 7 7 \n",
            "\n",
            "9 9 9 9 9 9 9 9 9 \n"
          ]
        }
      ]
    },
    {
      "cell_type": "code",
      "source": [
        "rows = 5\n",
        "i = 1\n",
        "while i <= rows:\n",
        "  j = 1\n",
        "  while j <= i:\n",
        "    print((i * 2 -1), end=' ') \n",
        "    j = j + 1\n",
        "  i = i + 1\n",
        "  print()"
      ],
      "metadata": {
        "colab": {
          "base_uri": "https://localhost:8080/"
        },
        "id": "KjCdylFwRqFe",
        "outputId": "c2280c07-de26-45de-8062-7a1560180c61"
      },
      "execution_count": null,
      "outputs": [
        {
          "output_type": "stream",
          "name": "stdout",
          "text": [
            "1 \n",
            "3 3 \n",
            "5 5 5 \n",
            "7 7 7 7 \n",
            "9 9 9 9 9 \n"
          ]
        }
      ]
    },
    {
      "cell_type": "code",
      "source": [
        "rows = 5\n",
        "for i in range(rows, 0, -1):\n",
        "  for j in range(i):\n",
        "    print(i, end=' ')\n",
        "  print()"
      ],
      "metadata": {
        "colab": {
          "base_uri": "https://localhost:8080/"
        },
        "id": "IzArx09dRqUR",
        "outputId": "f0e71ca6-d026-45c3-b787-f40164563ea7"
      },
      "execution_count": null,
      "outputs": [
        {
          "output_type": "stream",
          "name": "stdout",
          "text": [
            "5 5 5 5 5 \n",
            "4 4 4 4 \n",
            "3 3 3 \n",
            "2 2 \n",
            "1 \n"
          ]
        }
      ]
    },
    {
      "cell_type": "code",
      "source": [
        "for i in range(1, 6):\n",
        "  for j in range(i, 0, -1):\n",
        "    print(j, end=' ')\n",
        "  print()"
      ],
      "metadata": {
        "colab": {
          "base_uri": "https://localhost:8080/"
        },
        "id": "IQMt-zb6RqkY",
        "outputId": "de9ccc7c-7cc2-4644-ad01-e3d84a97e8a1"
      },
      "execution_count": null,
      "outputs": [
        {
          "output_type": "stream",
          "name": "stdout",
          "text": [
            "1 \n",
            "2 1 \n",
            "3 2 1 \n",
            "4 3 2 1 \n",
            "5 4 3 2 1 \n"
          ]
        }
      ]
    },
    {
      "cell_type": "code",
      "source": [
        "for i in range(5, 0, -1):\n",
        "  for j in range(i, 0, -1):\n",
        "    print(j, end=' ')\n",
        "  print()"
      ],
      "metadata": {
        "colab": {
          "base_uri": "https://localhost:8080/"
        },
        "id": "D9VlJ5Khf7ei",
        "outputId": "2222246d-a6c5-4ebf-ba8a-ed0f927c14ae"
      },
      "execution_count": null,
      "outputs": [
        {
          "output_type": "stream",
          "name": "stdout",
          "text": [
            "5 4 3 2 1 \n",
            "4 3 2 1 \n",
            "3 2 1 \n",
            "2 1 \n",
            "1 \n"
          ]
        }
      ]
    },
    {
      "cell_type": "code",
      "source": [
        "rows = 5\n",
        "for i in range(0, rows + 1):\n",
        "  for j in range(rows - i, 0, -1):\n",
        "    print(j, end=' ')\n",
        "  print()"
      ],
      "metadata": {
        "id": "DocGoQQpf70G"
      },
      "execution_count": null,
      "outputs": []
    },
    {
      "cell_type": "code",
      "source": [
        "start = 1\n",
        "stop = 2\n",
        "current_num = stop\n",
        "for row in range(2, 6):\n",
        "  for col in range(start, stop):\n",
        "    current_num -=1\n",
        "    print(current_num, end=' ')\n",
        "  print()\n",
        "  start = stop\n",
        "  stop += row\n",
        "  current_num = stop"
      ],
      "metadata": {
        "colab": {
          "base_uri": "https://localhost:8080/"
        },
        "id": "RnU6NnJZf8Mb",
        "outputId": "01b7cbaa-5928-40b4-dfb6-df68c5c26ac5"
      },
      "execution_count": null,
      "outputs": [
        {
          "output_type": "stream",
          "name": "stdout",
          "text": [
            "1 \n",
            "3 2 \n",
            "6 5 4 \n",
            "10 9 8 7 \n"
          ]
        }
      ]
    },
    {
      "cell_type": "code",
      "source": [
        "rows = 6\n",
        "for i in range(1, rows):\n",
        "  num = 1\n",
        "  for j in range(rows, 0, -1):\n",
        "    if j > i:\n",
        "      print(' ', end=' ')\n",
        "    else:\n",
        "      print(num, end=' ')\n",
        "      num += 1\n",
        "  print()\n"
      ],
      "metadata": {
        "colab": {
          "base_uri": "https://localhost:8080/"
        },
        "id": "OzKndesfk5sx",
        "outputId": "22bc030e-88f2-4924-843a-5770f8e7afcd"
      },
      "execution_count": null,
      "outputs": [
        {
          "output_type": "stream",
          "name": "stdout",
          "text": [
            "          1 \n",
            "        1 2 \n",
            "      1 2 3 \n",
            "    1 2 3 4 \n",
            "  1 2 3 4 5 \n"
          ]
        }
      ]
    },
    {
      "cell_type": "code",
      "source": [
        "for i in range(6):\n",
        "  a = 1\n",
        "  b = 11\n",
        "  c = 1\n",
        "  for j in range(i):\n",
        "    c = a * b\n",
        "    a = c\n",
        "    if c == 161051:\n",
        "      c = 15101051\n",
        "  print('\\r')\n",
        "  print(c, end=' ')\n",
        "  "
      ],
      "metadata": {
        "colab": {
          "base_uri": "https://localhost:8080/"
        },
        "id": "2R0I8iCgk6Me",
        "outputId": "844b9947-f0c2-42af-c144-7cdf81b97adc"
      },
      "execution_count": null,
      "outputs": [
        {
          "output_type": "stream",
          "name": "stdout",
          "text": [
            "\r\n",
            "1 \r\n",
            "11 \r\n",
            "121 \r\n",
            "1331 \r\n",
            "14641 \r\n",
            "15101051 "
          ]
        }
      ]
    },
    {
      "cell_type": "code",
      "source": [
        "def print_pascal_triangle(size):\n",
        "  for i in range(0, size):\n",
        "    for j in range(0, i + 1):\n",
        "      decide_number(i,j)\n",
        "    print()\n",
        "\n",
        "def decide_number(n, k):\n",
        "  num = 1\n",
        "  if k > n - k:\n",
        "    k = n - k\n",
        "  for i in range(0, k):\n",
        "    num = num * (n - i)\n",
        "    print(num)\n",
        "    num = num // (i + 1)\n",
        "  return num\n",
        "\n",
        "#set rows\n",
        "rows = 7\n",
        "print_pascal_triangle(rows)"
      ],
      "metadata": {
        "colab": {
          "base_uri": "https://localhost:8080/"
        },
        "id": "2lQ7e0lTk6lw",
        "outputId": "e024b24f-93ca-4b86-d660-382568b7e854"
      },
      "execution_count": null,
      "outputs": [
        {
          "output_type": "stream",
          "name": "stdout",
          "text": [
            "\n",
            "\n",
            "0\n",
            "\n",
            "0\n",
            "0\n",
            "\n",
            "0\n",
            "0\n",
            "1\n",
            "0\n",
            "\n",
            "0\n",
            "0\n",
            "1\n",
            "0\n",
            "1\n",
            "0\n",
            "\n",
            "0\n",
            "0\n",
            "1\n",
            "0\n",
            "1\n",
            "2\n",
            "0\n",
            "1\n",
            "0\n",
            "\n"
          ]
        }
      ]
    },
    {
      "cell_type": "code",
      "source": [
        "for i in range(1, 6):\n",
        "  for j in range(1, 6):\n",
        "    if j <= i:\n",
        "       print(i, end=' ')\n",
        "    else:\n",
        "       print(j, end=' ')\n",
        "  print()"
      ],
      "metadata": {
        "id": "gWiPhMznf8c6",
        "colab": {
          "base_uri": "https://localhost:8080/"
        },
        "outputId": "06e1b43f-0472-489d-c2ed-269baedfd5d3"
      },
      "execution_count": null,
      "outputs": [
        {
          "output_type": "stream",
          "name": "stdout",
          "text": [
            "1 2 3 4 5 \n",
            "2 2 3 4 5 \n",
            "3 3 3 4 5 \n",
            "4 4 4 4 5 \n",
            "5 5 5 5 5 \n"
          ]
        }
      ]
    },
    {
      "cell_type": "code",
      "source": [
        "for i in range(1, 9):\n",
        "  for j in range(1, i+1):\n",
        "    print(j*i, end=' ')\n",
        "  print()"
      ],
      "metadata": {
        "colab": {
          "base_uri": "https://localhost:8080/"
        },
        "id": "TgLWOQDAHLhG",
        "outputId": "4b2843db-f9d4-4312-a3a7-b57707198ec0"
      },
      "execution_count": null,
      "outputs": [
        {
          "output_type": "stream",
          "name": "stdout",
          "text": [
            "1 \n",
            "2 4 \n",
            "3 6 9 \n",
            "4 8 12 16 \n",
            "5 10 15 20 25 \n",
            "6 12 18 24 30 36 \n",
            "7 14 21 28 35 42 49 \n",
            "8 16 24 32 40 48 56 64 \n"
          ]
        }
      ]
    },
    {
      "cell_type": "code",
      "source": [
        "for i in range(6):\n",
        "  for j in range(i):\n",
        "    print('*', end=' ')\n",
        "  print()"
      ],
      "metadata": {
        "colab": {
          "base_uri": "https://localhost:8080/"
        },
        "id": "0vUdi0GFHL4d",
        "outputId": "c2ee10cb-6433-4494-f1b7-83d28a432f8d"
      },
      "execution_count": null,
      "outputs": [
        {
          "output_type": "stream",
          "name": "stdout",
          "text": [
            "\n",
            "* \n",
            "* * \n",
            "* * * \n",
            "* * * * \n",
            "* * * * * \n"
          ]
        }
      ]
    },
    {
      "cell_type": "code",
      "source": [
        "n = 6\n",
        "for i in range(1, 6):\n",
        "  n -= 1\n",
        "  for j in range(1, 6):\n",
        "    if j < n:\n",
        "      print(' ', end=' ')\n",
        "    else:\n",
        "      print('*', end=' ')\n",
        "  print()\n",
        "      "
      ],
      "metadata": {
        "colab": {
          "base_uri": "https://localhost:8080/"
        },
        "id": "5BqRJprKInXb",
        "outputId": "7ef4d6f6-4387-4052-990b-a725b82bc764"
      },
      "execution_count": null,
      "outputs": [
        {
          "output_type": "stream",
          "name": "stdout",
          "text": [
            "        * \n",
            "      * * \n",
            "    * * * \n",
            "  * * * * \n",
            "* * * * * \n"
          ]
        }
      ]
    },
    {
      "cell_type": "code",
      "source": [
        "rows = 5\n",
        "k = 2 * rows - 2\n",
        "for i in range(0, rows):\n",
        "  #process each column\n",
        "  for j in range(0, k):\n",
        "    #print space in pyramid\n",
        "    print(end=' ')\n",
        "  k = k - 2\n",
        "  for j in range(0, i + 1):\n",
        "    #display star\n",
        "    print('*', end=' ')\n",
        "  print()"
      ],
      "metadata": {
        "colab": {
          "base_uri": "https://localhost:8080/"
        },
        "id": "ih1wDwgVInoQ",
        "outputId": "e04d1e4a-4633-4abd-8e88-654484155cd3"
      },
      "execution_count": null,
      "outputs": [
        {
          "output_type": "stream",
          "name": "stdout",
          "text": [
            "        * \n",
            "      * * \n",
            "    * * * \n",
            "  * * * * \n",
            "* * * * * \n"
          ]
        }
      ]
    },
    {
      "cell_type": "code",
      "source": [
        "for i in range(5, 0, -1):\n",
        "  for j in range(i):\n",
        "    print('*', end=' ')\n",
        "  print()"
      ],
      "metadata": {
        "colab": {
          "base_uri": "https://localhost:8080/"
        },
        "id": "TeZi_A3bIn3M",
        "outputId": "647db503-6e0b-498c-a62c-c2948afa4335"
      },
      "execution_count": null,
      "outputs": [
        {
          "output_type": "stream",
          "name": "stdout",
          "text": [
            "* * * * * \n",
            "* * * * \n",
            "* * * \n",
            "* * \n",
            "* \n"
          ]
        }
      ]
    },
    {
      "cell_type": "code",
      "source": [
        "rows = 5\n",
        "k = 2 * rows - 2\n",
        "for i in range(rows, -1, -1):\n",
        "  for j in range(k, 0, -1):\n",
        "    print(end=' ')\n",
        "  k = k + 1\n",
        "  for j in range(0, i + 1):\n",
        "    print('*', end=' ')\n",
        "  print('')"
      ],
      "metadata": {
        "colab": {
          "base_uri": "https://localhost:8080/"
        },
        "id": "eSeM0b0-R37d",
        "outputId": "5a553254-5af6-4b49-9b84-f1bee425bfb0"
      },
      "execution_count": null,
      "outputs": [
        {
          "output_type": "stream",
          "name": "stdout",
          "text": [
            "        * * * * * * \n",
            "         * * * * * \n",
            "          * * * * \n",
            "           * * * \n",
            "            * * \n",
            "             * \n"
          ]
        }
      ]
    },
    {
      "cell_type": "code",
      "source": [
        "n = 0\n",
        "for i in range(0, 5):\n",
        "  for j in range(0, 5):\n",
        "    if i > j:\n",
        "      print(' ', end=' ')\n",
        "    else:\n",
        "      print('*', end=' ')\n",
        "  print()"
      ],
      "metadata": {
        "colab": {
          "base_uri": "https://localhost:8080/"
        },
        "id": "2zj1I2i_R4Jd",
        "outputId": "0c87da52-62e6-49ea-c172-dab53ea0f9fc"
      },
      "execution_count": null,
      "outputs": [
        {
          "output_type": "stream",
          "name": "stdout",
          "text": [
            "* * * * * \n",
            "  * * * * \n",
            "    * * * \n",
            "      * * \n",
            "        * \n"
          ]
        }
      ]
    },
    {
      "cell_type": "code",
      "source": [
        "row = 8\n",
        "num = 2 * row - 2\n",
        "for i in range(1, row):\n",
        "  for j in range(num, 1, -1):\n",
        "    print(end=' ')\n",
        "  num = num - 1 \n",
        "  for j in range(i):\n",
        "    print('*', end=' ')\n",
        "  print('')"
      ],
      "metadata": {
        "colab": {
          "base_uri": "https://localhost:8080/"
        },
        "id": "YOjzdy42R4Ve",
        "outputId": "98f74f9e-208c-4ac0-f00f-8437708caa7e"
      },
      "execution_count": null,
      "outputs": [
        {
          "output_type": "stream",
          "name": "stdout",
          "text": [
            "             * \n",
            "            * * \n",
            "           * * * \n",
            "          * * * * \n",
            "         * * * * * \n",
            "        * * * * * * \n",
            "       * * * * * * * \n"
          ]
        }
      ]
    },
    {
      "cell_type": "code",
      "source": [
        "row = 7\n",
        "row1 = 6\n",
        "for i in range(1, row):\n",
        "  for j in range(i):\n",
        "    print('*', end=' ')\n",
        "  print()\n",
        "print(' ')\n",
        "for l in range(row1, 0, -1):\n",
        "  for m in range(l):\n",
        "    print('*', end=' ')\n",
        "  print()"
      ],
      "metadata": {
        "colab": {
          "base_uri": "https://localhost:8080/"
        },
        "id": "htuQpQZKR4hp",
        "outputId": "2e780b36-3e62-4436-fb06-1bf05e9e5232"
      },
      "execution_count": null,
      "outputs": [
        {
          "output_type": "stream",
          "name": "stdout",
          "text": [
            "* \n",
            "* * \n",
            "* * * \n",
            "* * * * \n",
            "* * * * * \n",
            "* * * * * * \n",
            " \n",
            "* * * * * * \n",
            "* * * * * \n",
            "* * * * \n",
            "* * * \n",
            "* * \n",
            "* \n"
          ]
        }
      ]
    },
    {
      "cell_type": "code",
      "source": [
        "row1 = 6\n",
        "row2 = 6\n",
        "\n",
        "#first triangle\n",
        "for i in range(row1):\n",
        "  for j in range(i):\n",
        "    print('*', end=' ')\n",
        "  print()\n",
        "\n",
        "for l in range(row2, 0, -1):\n",
        "  for m in range(l):\n",
        "    print('*', end=' ')\n",
        "  print()"
      ],
      "metadata": {
        "colab": {
          "base_uri": "https://localhost:8080/"
        },
        "id": "ZeJ8GHhKIoEv",
        "outputId": "dd8ef706-cbad-418d-cb5f-cb7596f9e5d3"
      },
      "execution_count": null,
      "outputs": [
        {
          "output_type": "stream",
          "name": "stdout",
          "text": [
            "\n",
            "* \n",
            "* * \n",
            "* * * \n",
            "* * * * \n",
            "* * * * * \n",
            "* * * * * * \n",
            "* * * * * \n",
            "* * * * \n",
            "* * * \n",
            "* * \n",
            "* \n"
          ]
        }
      ]
    },
    {
      "cell_type": "code",
      "source": [
        "row = 5\n",
        "for i in range(0, 5):\n",
        "  row -= 1\n",
        "  for j in range(0, 5):\n",
        "    if row > j:\n",
        "      print(end=' ')\n",
        "    else:\n",
        "      print('*', end=' ')\n",
        "  print()\n"
      ],
      "metadata": {
        "colab": {
          "base_uri": "https://localhost:8080/"
        },
        "id": "-xUcxv_LbLnS",
        "outputId": "86b56596-16e1-49f1-aabd-48a827533e62"
      },
      "execution_count": null,
      "outputs": [
        {
          "output_type": "stream",
          "name": "stdout",
          "text": [
            "    * \n",
            "   * * \n",
            "  * * * \n",
            " * * * * \n",
            "* * * * * \n"
          ]
        }
      ]
    },
    {
      "cell_type": "code",
      "source": [
        "n = 7\n",
        "for i in range(1, 7):\n",
        "  n -= 1\n",
        "  for j in range(1, 7):\n",
        "    if j < n:\n",
        "      print(' ', end=' ')\n",
        "    else:\n",
        "      print('*', end=' ')\n",
        "  print()\n",
        "\n",
        "for i in range(1, 6):\n",
        "  for j in range(0, 6):\n",
        "    if i > j:\n",
        "      print(' ', end=' ')\n",
        "    else:\n",
        "      print('*', end=' ')\n",
        "  print()"
      ],
      "metadata": {
        "colab": {
          "base_uri": "https://localhost:8080/"
        },
        "id": "qtSUMv1CbL0_",
        "outputId": "8db09979-24c9-454d-a8aa-0f79019e3401"
      },
      "execution_count": null,
      "outputs": [
        {
          "output_type": "stream",
          "name": "stdout",
          "text": [
            "          * \n",
            "        * * \n",
            "      * * * \n",
            "    * * * * \n",
            "  * * * * * \n",
            "* * * * * * \n",
            "  * * * * * \n",
            "    * * * * \n",
            "      * * * \n",
            "        * * \n",
            "          * \n"
          ]
        }
      ]
    },
    {
      "cell_type": "code",
      "source": [
        "rows = 5\n",
        "i = 1\n",
        "while i <= rows:\n",
        "  j = i\n",
        "  while j < rows:\n",
        "    #display space\n",
        "    print('2', end=' ')\n",
        "    j += 1\n",
        "  k = 1\n",
        "  while k <= i:\n",
        "    print('*', end=' ')\n",
        "    k += 1\n",
        "  print()\n",
        "  i += 1\n",
        "\n",
        "i = rows\n",
        "while i >= 1:\n",
        "  j = i\n",
        "  while j <= rows:\n",
        "    print(' ', end=' ')\n",
        "    j += 1\n",
        "  k = 1\n",
        "  while k < i:\n",
        "    print('*', end=' ')\n",
        "    k += 1\n",
        "  print('')\n",
        "  i -= 1"
      ],
      "metadata": {
        "colab": {
          "base_uri": "https://localhost:8080/"
        },
        "id": "tbgBiUy_bL9G",
        "outputId": "c3bbc48a-0cac-4fe4-f68f-c1f20d94404b"
      },
      "execution_count": null,
      "outputs": [
        {
          "output_type": "stream",
          "name": "stdout",
          "text": [
            "2 2 2 2 * \n",
            "2 2 2 * * \n",
            "2 2 * * * \n",
            "2 * * * * \n",
            "* * * * * \n",
            "  * * * * \n",
            "    * * * \n",
            "      * * \n",
            "        * \n",
            "          \n"
          ]
        }
      ]
    },
    {
      "cell_type": "code",
      "source": [
        "row = 5\n",
        "\n",
        "while i < row:\n",
        "  print('*', end=' ')\n",
        "  i += 1"
      ],
      "metadata": {
        "colab": {
          "base_uri": "https://localhost:8080/"
        },
        "id": "3sVNwE0zbMFI",
        "outputId": "f54e730d-0c98-4849-8cc4-fbe276860441"
      },
      "execution_count": null,
      "outputs": [
        {
          "output_type": "stream",
          "name": "stdout",
          "text": [
            "* * * * * "
          ]
        }
      ]
    },
    {
      "cell_type": "code",
      "source": [
        "i = 5\n",
        "rows = 5\n",
        "while i >= 1:\n",
        "  j = i\n",
        "  while j <= rows:\n",
        "    print(end=' ')\n",
        "    j += 1\n",
        "  k = 1\n",
        "  while k < i:\n",
        "    print('*', end=' ')\n",
        "    k += 1\n",
        "  print('')\n",
        "  i -= 1\n",
        "rows = 5\n",
        "i = 1\n",
        "while i <= rows:\n",
        "  j = i\n",
        "  while j < rows:\n",
        "    #display space\n",
        "    print(end=' ')\n",
        "    j += 1\n",
        "  k = 1\n",
        "  while k <= i:\n",
        "    print('*', end=' ')\n",
        "    k += 1\n",
        "  print()\n",
        "  i += 1\n"
      ],
      "metadata": {
        "id": "QKxl2qkMIoVW",
        "colab": {
          "base_uri": "https://localhost:8080/"
        },
        "outputId": "bf1b1691-e8f4-4ec3-bd25-9d37f52b5c57"
      },
      "execution_count": null,
      "outputs": [
        {
          "output_type": "stream",
          "name": "stdout",
          "text": [
            " * * * * \n",
            "  * * * \n",
            "   * * \n",
            "    * \n",
            "     \n",
            "    * \n",
            "   * * \n",
            "  * * * \n",
            " * * * * \n",
            "* * * * * \n"
          ]
        }
      ]
    },
    {
      "cell_type": "code",
      "source": [
        "rows = 5\n",
        "i = 0\n",
        "while i <= rows - 1:\n",
        "  j = 0\n",
        "  while j < i:\n",
        "    #display space\n",
        "    print('', end=' ')\n",
        "    j += 1\n",
        "  k = i\n",
        "  while k <= rows - 1:\n",
        "    print('*', end= ' ')\n",
        "    k += 1\n",
        "  print()\n",
        "  i += 1\n",
        "\n",
        "i = rows - 1\n",
        "while i >= 0:\n",
        "  j = 0\n",
        "  while j < i:\n",
        "    print('', end=' ')\n",
        "    j += 1\n",
        "  k = i\n",
        "  while k <= rows - 1:\n",
        "    print('*', end=' ')\n",
        "    k += 1\n",
        "  print('')\n",
        "  i -= 1"
      ],
      "metadata": {
        "colab": {
          "base_uri": "https://localhost:8080/"
        },
        "id": "QCFZTHp1_ZV7",
        "outputId": "5937ddd2-a040-4968-deb6-303397c94f1d"
      },
      "execution_count": null,
      "outputs": [
        {
          "output_type": "stream",
          "name": "stdout",
          "text": [
            "* * * * * \n",
            " * * * * \n",
            "  * * * \n",
            "   * * \n",
            "    * \n",
            "    * \n",
            "   * * \n",
            "  * * * \n",
            " * * * * \n",
            "* * * * * \n"
          ]
        }
      ]
    },
    {
      "cell_type": "code",
      "source": [
        "i = 1\n",
        "row = 5\n",
        "while i <= row:\n",
        "  l = row\n",
        "  while l > i:\n",
        "    print(end=' ')\n",
        "    l -= 1\n",
        "  k = 1\n",
        "  while k <= i:\n",
        "    print('*', end=' ')\n",
        "    k += 1\n",
        "  print()\n",
        "  i += 1   "
      ],
      "metadata": {
        "colab": {
          "base_uri": "https://localhost:8080/"
        },
        "id": "muCzjk97_Zh4",
        "outputId": "7f2cc799-7eef-4e43-e2e5-292db9c0e7b7"
      },
      "execution_count": null,
      "outputs": [
        {
          "output_type": "stream",
          "name": "stdout",
          "text": [
            "    * \n",
            "   * * \n",
            "  * * * \n",
            " * * * * \n",
            "* * * * * \n"
          ]
        }
      ]
    },
    {
      "cell_type": "code",
      "source": [
        "rows = 8\n",
        "i = 1 \n",
        "while i < rows:\n",
        "  k = i\n",
        "  while k < rows:\n",
        "    print('*', end=' ')\n",
        "    k += 1\n",
        "  \n",
        "  \n",
        "  print()\n",
        "  i += 1\n"
      ],
      "metadata": {
        "colab": {
          "base_uri": "https://localhost:8080/"
        },
        "id": "5H5vTDRm_ZqR",
        "outputId": "019b0caa-bde6-4041-c577-2a240db96761"
      },
      "execution_count": null,
      "outputs": [
        {
          "output_type": "stream",
          "name": "stdout",
          "text": [
            "* * * * * * * \n",
            "* * * * * * \n",
            "* * * * * \n",
            "* * * * \n",
            "* * * \n",
            "* * \n",
            "* \n"
          ]
        }
      ]
    },
    {
      "cell_type": "code",
      "source": [
        "numbers = [1, 4, 30, 8, 15, 20, 26]\n",
        "for i in numbers:\n",
        "  if i > 15:\n",
        "    break\n",
        "  else:\n",
        "    print(i)"
      ],
      "metadata": {
        "id": "cB_DvO2UDTdL",
        "colab": {
          "base_uri": "https://localhost:8080/"
        },
        "outputId": "8a3d98ea-8217-42f0-a2e7-40cae2d553dc"
      },
      "execution_count": null,
      "outputs": [
        {
          "output_type": "stream",
          "name": "stdout",
          "text": [
            "1\n",
            "4\n"
          ]
        }
      ]
    },
    {
      "cell_type": "code",
      "source": [
        "name = 'mariya mennen'\n",
        "count = 0\n",
        "for char in name:\n",
        "  if char != 'm':\n",
        "    continue\n",
        "  else:\n",
        "    count = count + 1\n",
        "\n",
        "print('Total number of m is:', count)"
      ],
      "metadata": {
        "id": "4qgD5Cp1DTpc",
        "colab": {
          "base_uri": "https://localhost:8080/"
        },
        "outputId": "032ff6db-b276-49ff-9afb-8476f5502096"
      },
      "execution_count": null,
      "outputs": [
        {
          "output_type": "stream",
          "name": "stdout",
          "text": [
            "Total number of m is: 2\n"
          ]
        }
      ]
    },
    {
      "cell_type": "code",
      "source": [
        ""
      ],
      "metadata": {
        "id": "ySYFrkFqDT08"
      },
      "execution_count": null,
      "outputs": []
    },
    {
      "cell_type": "markdown",
      "source": [
        "How to build a simple calculator in python step by step"
      ],
      "metadata": {
        "id": "kr_a5bOLrf72"
      }
    },
    {
      "cell_type": "code",
      "source": [
        "print('Select an operation to perform:')\n",
        "print('1. ADD')\n",
        "print('2. SUBTRACT')\n",
        "print('3. MULTIPLY')\n",
        "print('4. DIVIDE')\n",
        "\n",
        "operation = input()\n",
        "\n",
        "if operation == '1':\n",
        "  #code for add\n",
        "  num1 = int(input('Enter first number: '))\n",
        "  num2 = int(input('Enter second number: '))\n",
        "  print(\"The sum of given numbers is \", num1 + num2)\n",
        "elif operation == '2':\n",
        "  #code for subtract\n",
        "  num1 = int(input('Enter first number: '))\n",
        "  num2 = int(input('Enter second number: '))\n",
        "  print('Output: ', num1 - num2)\n",
        "elif operation == '3':\n",
        "  #code for multiply\n",
        "  num1 = int(input('Enter first number: '))\n",
        "  num2 = int(input('Enter second number: '))\n",
        "  print('Output: ', num1 * num2)\n",
        "elif operation == '4':\n",
        "  #code for divide\n",
        "  num1 = int(input('First number: '))\n",
        "  num2 = int(input('Second numer: '))\n",
        "  print('Output: ', num1 / num2)\n",
        "else:\n",
        "  print('Invalid Entry')"
      ],
      "metadata": {
        "id": "NiAJTZdt_Zzy",
        "colab": {
          "base_uri": "https://localhost:8080/"
        },
        "outputId": "8d049980-0880-4aaa-e9ab-7dca9ae8bec6"
      },
      "execution_count": null,
      "outputs": [
        {
          "output_type": "stream",
          "name": "stdout",
          "text": [
            "Select an operation to perform:\n",
            "1. ADD\n",
            "2. SUBTRACT\n",
            "3. MULTIPLY\n",
            "4. DIVIDE\n",
            "1\n",
            "Enter first number: 2\n",
            "Enter second number: 4\n",
            "The sum of given numbers is  6\n"
          ]
        }
      ]
    },
    {
      "cell_type": "code",
      "source": [
        ""
      ],
      "metadata": {
        "id": "Ngsd14ra_Z8k"
      },
      "execution_count": null,
      "outputs": []
    },
    {
      "cell_type": "code",
      "source": [
        ""
      ],
      "metadata": {
        "id": "hVkzbPdIvFFC"
      },
      "execution_count": null,
      "outputs": []
    },
    {
      "cell_type": "code",
      "source": [
        ""
      ],
      "metadata": {
        "id": "MN9wPTrCvFQ9"
      },
      "execution_count": null,
      "outputs": []
    },
    {
      "cell_type": "code",
      "source": [
        ""
      ],
      "metadata": {
        "id": "Nxcb2cKvvFY6"
      },
      "execution_count": null,
      "outputs": []
    },
    {
      "cell_type": "code",
      "source": [
        ""
      ],
      "metadata": {
        "id": "pUJ_8VKjvFes"
      },
      "execution_count": null,
      "outputs": []
    },
    {
      "cell_type": "code",
      "source": [
        ""
      ],
      "metadata": {
        "id": "8F2jiybsvFoB"
      },
      "execution_count": null,
      "outputs": []
    },
    {
      "cell_type": "code",
      "source": [
        ""
      ],
      "metadata": {
        "id": "rg9wQ29R_aFC"
      },
      "execution_count": null,
      "outputs": []
    },
    {
      "cell_type": "code",
      "source": [
        ""
      ],
      "metadata": {
        "id": "tJBygkPJecTk"
      },
      "execution_count": null,
      "outputs": []
    }
  ]
}